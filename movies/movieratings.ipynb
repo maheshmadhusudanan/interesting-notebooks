{
 "cells": [
  {
   "cell_type": "code",
   "execution_count": 3,
   "metadata": {
    "collapsed": true
   },
   "outputs": [],
   "source": [
    "# build movies rating weights\n",
    "# ==========================="
   ]
  },
  {
   "cell_type": "code",
   "execution_count": 51,
   "metadata": {
    "collapsed": false
   },
   "outputs": [
    {
     "name": "stdout",
     "output_type": "stream",
     "text": [
      "/home/ubuntu/nbs\n"
     ]
    }
   ],
   "source": [
    "%cd \"~/nbs\"\n",
    "from theano.sandbox import cuda\n",
    "import utils\n",
    "reload(utils)\n",
    "import pandas as pd"
   ]
  },
  {
   "cell_type": "code",
   "execution_count": 50,
   "metadata": {
    "collapsed": true
   },
   "outputs": [],
   "source": [
    "%matplotlib inline"
   ]
  },
  {
   "cell_type": "code",
   "execution_count": 52,
   "metadata": {
    "collapsed": false
   },
   "outputs": [
    {
     "name": "stdout",
     "output_type": "stream",
     "text": [
      "/home/ubuntu/nbs/data/movielens/ml-latest-small\n"
     ]
    }
   ],
   "source": [
    "pwd = %pwd\n",
    "path = pwd + \"/data/movielens/ml-latest-small\"\n",
    "print path"
   ]
  },
  {
   "cell_type": "code",
   "execution_count": 53,
   "metadata": {
    "collapsed": false
   },
   "outputs": [],
   "source": [
    "movieratings = pd.read_csv(path+\"/ratings.csv\")\n",
    "movies = pd.read_csv(path+\"/movies.csv\")"
   ]
  },
  {
   "cell_type": "code",
   "execution_count": 54,
   "metadata": {
    "collapsed": false
   },
   "outputs": [
    {
     "data": {
      "text/html": [
       "<div>\n",
       "<table border=\"1\" class=\"dataframe\">\n",
       "  <thead>\n",
       "    <tr style=\"text-align: right;\">\n",
       "      <th></th>\n",
       "      <th>movieId</th>\n",
       "      <th>title</th>\n",
       "      <th>genres</th>\n",
       "    </tr>\n",
       "  </thead>\n",
       "  <tbody>\n",
       "    <tr>\n",
       "      <th>0</th>\n",
       "      <td>1</td>\n",
       "      <td>Toy Story (1995)</td>\n",
       "      <td>Adventure|Animation|Children|Comedy|Fantasy</td>\n",
       "    </tr>\n",
       "    <tr>\n",
       "      <th>1</th>\n",
       "      <td>2</td>\n",
       "      <td>Jumanji (1995)</td>\n",
       "      <td>Adventure|Children|Fantasy</td>\n",
       "    </tr>\n",
       "    <tr>\n",
       "      <th>2</th>\n",
       "      <td>3</td>\n",
       "      <td>Grumpier Old Men (1995)</td>\n",
       "      <td>Comedy|Romance</td>\n",
       "    </tr>\n",
       "    <tr>\n",
       "      <th>3</th>\n",
       "      <td>4</td>\n",
       "      <td>Waiting to Exhale (1995)</td>\n",
       "      <td>Comedy|Drama|Romance</td>\n",
       "    </tr>\n",
       "    <tr>\n",
       "      <th>4</th>\n",
       "      <td>5</td>\n",
       "      <td>Father of the Bride Part II (1995)</td>\n",
       "      <td>Comedy</td>\n",
       "    </tr>\n",
       "  </tbody>\n",
       "</table>\n",
       "</div>"
      ],
      "text/plain": [
       "   movieId                               title  \\\n",
       "0        1                    Toy Story (1995)   \n",
       "1        2                      Jumanji (1995)   \n",
       "2        3             Grumpier Old Men (1995)   \n",
       "3        4            Waiting to Exhale (1995)   \n",
       "4        5  Father of the Bride Part II (1995)   \n",
       "\n",
       "                                        genres  \n",
       "0  Adventure|Animation|Children|Comedy|Fantasy  \n",
       "1                   Adventure|Children|Fantasy  \n",
       "2                               Comedy|Romance  \n",
       "3                         Comedy|Drama|Romance  \n",
       "4                                       Comedy  "
      ]
     },
     "execution_count": 54,
     "metadata": {},
     "output_type": "execute_result"
    }
   ],
   "source": [
    "movieratings.head()\n",
    "movies.head()"
   ]
  },
  {
   "cell_type": "code",
   "execution_count": 55,
   "metadata": {
    "collapsed": false
   },
   "outputs": [
    {
     "data": {
      "text/plain": [
       "9125"
      ]
     },
     "execution_count": 55,
     "metadata": {},
     "output_type": "execute_result"
    }
   ],
   "source": [
    "len(movieratings)\n",
    "len(movies)"
   ]
  },
  {
   "cell_type": "code",
   "execution_count": 56,
   "metadata": {
    "collapsed": false
   },
   "outputs": [
    {
     "name": "stdout",
     "output_type": "stream",
     "text": [
      "movieId\n",
      "title\n",
      "genres\n"
     ]
    }
   ],
   "source": [
    "users = movieratings. "
   ]
  },
  {
   "cell_type": "code",
   "execution_count": 57,
   "metadata": {
    "collapsed": false
   },
   "outputs": [
    {
     "name": "stdout",
     "output_type": "stream",
     "text": [
      "      movieId                                              title  \\\n",
      "0           1                                   Toy Story (1995)   \n",
      "1           2                                     Jumanji (1995)   \n",
      "2           3                            Grumpier Old Men (1995)   \n",
      "3           4                           Waiting to Exhale (1995)   \n",
      "4           5                 Father of the Bride Part II (1995)   \n",
      "5           6                                        Heat (1995)   \n",
      "6           7                                     Sabrina (1995)   \n",
      "7           8                                Tom and Huck (1995)   \n",
      "8           9                                Sudden Death (1995)   \n",
      "9          10                                   GoldenEye (1995)   \n",
      "10         11                     American President, The (1995)   \n",
      "11         12                 Dracula: Dead and Loving It (1995)   \n",
      "12         13                                       Balto (1995)   \n",
      "13         14                                       Nixon (1995)   \n",
      "14         15                            Cutthroat Island (1995)   \n",
      "15         16                                      Casino (1995)   \n",
      "16         17                       Sense and Sensibility (1995)   \n",
      "17         18                                  Four Rooms (1995)   \n",
      "18         19              Ace Ventura: When Nature Calls (1995)   \n",
      "19         20                                 Money Train (1995)   \n",
      "20         21                                  Get Shorty (1995)   \n",
      "21         22                                     Copycat (1995)   \n",
      "22         23                                   Assassins (1995)   \n",
      "23         24                                      Powder (1995)   \n",
      "24         25                           Leaving Las Vegas (1995)   \n",
      "25         26                                     Othello (1995)   \n",
      "26         27                                Now and Then (1995)   \n",
      "27         28                                  Persuasion (1995)   \n",
      "28         29  City of Lost Children, The (Cité des enfants p...   \n",
      "29         30  Shanghai Triad (Yao a yao yao dao waipo qiao) ...   \n",
      "...       ...                                                ...   \n",
      "9095   159690  Teenage Mutant Ninja Turtles: Out of the Shado...   \n",
      "9096   159755          Popstar: Never Stop Never Stopping (2016)   \n",
      "9097   159858                             The Conjuring 2 (2016)   \n",
      "9098   159972                     Approaching the Unknown (2016)   \n",
      "9099   160080                                Ghostbusters (2016)   \n",
      "9100   160271                        Central Intelligence (2016)   \n",
      "9101   160438                                Jason Bourne (2016)   \n",
      "9102   160440                             The Maid's Room (2014)   \n",
      "9103   160563                        The Legend of Tarzan (2016)   \n",
      "9104   160565                    The Purge: Election Year (2016)   \n",
      "9105   160567              Mike & Dave Need Wedding Dates (2016)   \n",
      "9106   160590                         Survive and Advance (2013)   \n",
      "9107   160656                                    Tallulah (2016)   \n",
      "9108   160718                                       Piper (2016)   \n",
      "9109   160954                                       Nerve (2016)   \n",
      "9110   161084                       My Friend Rockefeller (2015)   \n",
      "9111   161155                                   Sunspring (2016)   \n",
      "9112   161336                  Author: The JT LeRoy Story (2016)   \n",
      "9113   161582                          Hell or High Water (2016)   \n",
      "9114   161594               Kingsglaive: Final Fantasy XV (2016)   \n",
      "9115   161830                                        Body (2015)   \n",
      "9116   161918                Sharknado 4: The 4th Awakens (2016)   \n",
      "9117   161944              The Last Brickmaker in America (2001)   \n",
      "9118   162376                                    Stranger Things   \n",
      "9119   162542                                      Rustom (2016)   \n",
      "9120   162672                                Mohenjo Daro (2016)   \n",
      "9121   163056                               Shin Godzilla (2016)   \n",
      "9122   163949  The Beatles: Eight Days a Week - The Touring Y...   \n",
      "9123   164977                           The Gay Desperado (1936)   \n",
      "9124   164979                              Women of '69, Unboxed   \n",
      "\n",
      "                                               genres  \n",
      "0         Adventure|Animation|Children|Comedy|Fantasy  \n",
      "1                          Adventure|Children|Fantasy  \n",
      "2                                      Comedy|Romance  \n",
      "3                                Comedy|Drama|Romance  \n",
      "4                                              Comedy  \n",
      "5                               Action|Crime|Thriller  \n",
      "6                                      Comedy|Romance  \n",
      "7                                  Adventure|Children  \n",
      "8                                              Action  \n",
      "9                           Action|Adventure|Thriller  \n",
      "10                               Comedy|Drama|Romance  \n",
      "11                                      Comedy|Horror  \n",
      "12                       Adventure|Animation|Children  \n",
      "13                                              Drama  \n",
      "14                           Action|Adventure|Romance  \n",
      "15                                        Crime|Drama  \n",
      "16                                      Drama|Romance  \n",
      "17                                             Comedy  \n",
      "18                                             Comedy  \n",
      "19                 Action|Comedy|Crime|Drama|Thriller  \n",
      "20                              Comedy|Crime|Thriller  \n",
      "21                Crime|Drama|Horror|Mystery|Thriller  \n",
      "22                              Action|Crime|Thriller  \n",
      "23                                       Drama|Sci-Fi  \n",
      "24                                      Drama|Romance  \n",
      "25                                              Drama  \n",
      "26                                     Children|Drama  \n",
      "27                                      Drama|Romance  \n",
      "28             Adventure|Drama|Fantasy|Mystery|Sci-Fi  \n",
      "29                                        Crime|Drama  \n",
      "...                                               ...  \n",
      "9095                          Action|Adventure|Comedy  \n",
      "9096                                           Comedy  \n",
      "9097                                           Horror  \n",
      "9098                            Drama|Sci-Fi|Thriller  \n",
      "9099                      Action|Comedy|Horror|Sci-Fi  \n",
      "9100                                    Action|Comedy  \n",
      "9101                                           Action  \n",
      "9102                                         Thriller  \n",
      "9103                                 Action|Adventure  \n",
      "9104                             Action|Horror|Sci-Fi  \n",
      "9105                                           Comedy  \n",
      "9106                               (no genres listed)  \n",
      "9107                                            Drama  \n",
      "9108                                        Animation  \n",
      "9109                                   Drama|Thriller  \n",
      "9110                                      Documentary  \n",
      "9111                                           Sci-Fi  \n",
      "9112                                      Documentary  \n",
      "9113                                      Crime|Drama  \n",
      "9114  Action|Adventure|Animation|Drama|Fantasy|Sci-Fi  \n",
      "9115                            Drama|Horror|Thriller  \n",
      "9116                   Action|Adventure|Horror|Sci-Fi  \n",
      "9117                                            Drama  \n",
      "9118                                            Drama  \n",
      "9119                                 Romance|Thriller  \n",
      "9120                          Adventure|Drama|Romance  \n",
      "9121                  Action|Adventure|Fantasy|Sci-Fi  \n",
      "9122                                      Documentary  \n",
      "9123                                           Comedy  \n",
      "9124                                      Documentary  \n",
      "\n",
      "[9125 rows x 3 columns]\n"
     ]
    }
   ],
   "source": [
    "print movies"
   ]
  },
  {
   "cell_type": "code",
   "execution_count": null,
   "metadata": {
    "collapsed": true
   },
   "outputs": [],
   "source": []
  }
 ],
 "metadata": {
  "anaconda-cloud": {},
  "kernelspec": {
   "display_name": "Python [conda root]",
   "language": "python",
   "name": "conda-root-py"
  },
  "language_info": {
   "codemirror_mode": {
    "name": "ipython",
    "version": 2
   },
   "file_extension": ".py",
   "mimetype": "text/x-python",
   "name": "python",
   "nbconvert_exporter": "python",
   "pygments_lexer": "ipython2",
   "version": "2.7.12"
  }
 },
 "nbformat": 4,
 "nbformat_minor": 1
}
